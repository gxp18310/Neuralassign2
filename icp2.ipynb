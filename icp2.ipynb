{
 "cells": [
  {
   "cell_type": "code",
   "execution_count": 1,
   "id": "1310fbb5",
   "metadata": {},
   "outputs": [
    {
     "name": "stdout",
     "output_type": "stream",
     "text": [
      "Enter your first name:/nGnana Deepthi\n",
      "Enter your last name:/nPulipati\n",
      "Gnana Deepthi Pulipati\n"
     ]
    }
   ],
   "source": [
    "def Full_name(first_name=\"first name\",last_name='last name'):\n",
    "    return first_name+' '+last_name\n",
    "First_name=input(\"Enter your first name:/n\")\n",
    "Last_name=input(\"Enter your last name:/n\")\n",
    "full_name=Full_name(First_name,Last_name)\n",
    "print(full_name)"
   ]
  },
  {
   "cell_type": "code",
   "execution_count": 2,
   "id": "732d82dd",
   "metadata": {},
   "outputs": [
    {
     "name": "stdout",
     "output_type": "stream",
     "text": [
      "Go vnn\n"
     ]
    }
   ],
   "source": [
    "def string_alternative(str):\n",
    "    a=''\n",
    "    for i in range(0,len(str)):\n",
    "        if(i%2==0):\n",
    "            a=a+str[i]\n",
    "    return a\n",
    "if __name__=='__main__':\n",
    "    print(string_alternative(\"Good evening\"))"
   ]
  },
  {
   "cell_type": "code",
   "execution_count": 3,
   "id": "52c727b7",
   "metadata": {},
   "outputs": [
    {
     "name": "stdout",
     "output_type": "stream",
     "text": [
      "Python:1\n",
      "Course:2\n",
      "Deep:1\n",
      "Learning:1\n",
      "\n"
     ]
    }
   ],
   "source": [
    "with open('input.txt','r') as ipf:\n",
    "    line=ipf.read()\n",
    "    word=line.split()\n",
    "    check=[]\n",
    "    with open('output_file.txt','w') as opf:\n",
    "        for i in word:\n",
    "            if i not in check:\n",
    "                check.append(i)\n",
    "                opf.write(i+':'+str(word.count(i))+'\\n')      \n",
    "opf=open('output_file.txt','r')\n",
    "print(opf.read())"
   ]
  },
  {
   "cell_type": "code",
   "execution_count": null,
   "id": "66b95ce2",
   "metadata": {},
   "outputs": [
    {
     "name": "stdout",
     "output_type": "stream",
     "text": [
      "150 155 145 148\n",
      "[381.0, 393.7, 368.3, 375.92]\n"
     ]
    }
   ],
   "source": [
    "L1=list(map(float,input().split()))\n",
    "L2=[]\n",
    "for i in L1:\n",
    "    i=i*2.54\n",
    "    L2.append(i)\n",
    "print(L2)\n",
    "\n",
    "L1=list(map(float,input().split()))\n",
    "L2=[i*2.54 for i in L1]\n",
    "print(L2)"
   ]
  }
 ],
 "metadata": {
  "kernelspec": {
   "display_name": "Python 3 (ipykernel)",
   "language": "python",
   "name": "python3"
  },
  "language_info": {
   "codemirror_mode": {
    "name": "ipython",
    "version": 3
   },
   "file_extension": ".py",
   "mimetype": "text/x-python",
   "name": "python",
   "nbconvert_exporter": "python",
   "pygments_lexer": "ipython3",
   "version": "3.11.5"
  }
 },
 "nbformat": 4,
 "nbformat_minor": 5
}
